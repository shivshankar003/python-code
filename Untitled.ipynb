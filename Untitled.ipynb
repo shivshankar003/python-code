{
 "cells": [
  {
   "cell_type": "code",
   "execution_count": 1,
   "id": "8b8894a5-f0d9-418b-b0d3-30f5183632b2",
   "metadata": {},
   "outputs": [
    {
     "name": "stdout",
     "output_type": "stream",
     "text": [
      "1.ADDITION  2.SUBTRACTION 3.MULTIPILICATION 4.DIVISION  5.MODULS 6.POWER  \n"
     ]
    },
    {
     "name": "stdin",
     "output_type": "stream",
     "text": [
      "enter your choice 1\n",
      "enter the value of a 4\n",
      "enter the value of b 6\n"
     ]
    },
    {
     "name": "stdout",
     "output_type": "stream",
     "text": [
      "10\n"
     ]
    }
   ],
   "source": [
    "#Develop a  menu driven code to perform the basic arithmetic operations like addition \n",
    "#subtraction \n",
    "#division \n",
    "#moduls \n",
    "#multiplication \n",
    "#power\n",
    "\n",
    "print(\"1.ADDITION  2.SUBTRACTION 3.MULTIPILICATION 4.DIVISION  5.MODULS 6.POWER  \")\n",
    "ch=int(input(\"enter your choice\"))\n",
    "a=int(input(\"enter the value of a\"))\n",
    "b=int(input(\"enter the value of b\"))\n",
    "match ch:\n",
    " case 1:print(a+b)\n",
    " case 2:print(a-b)\n",
    " case 3:print(a*b)\n",
    " case 4:print(a/b)\n",
    " case 5:print(a%b)\n",
    " case 6:print(a**b)\n",
    " case _:print(\"---invalid---\")"
   ]
  },
  {
   "cell_type": "code",
   "execution_count": null,
   "id": "177402df-1eb8-4014-b29b-4dd6f7c567c8",
   "metadata": {},
   "outputs": [],
   "source": [
    "#Write a program to check whether a string is palindrome or not\n",
    "a=input(\"Enter the string\")\n",
    "s=a[::-1]\n",
    "if a==s:\n",
    "    print(\"the given string is a palindrome\")\n",
    "else:\n",
    "    print(\"the given string is nat a palindrome\")"
   ]
  },
  {
   "cell_type": "code",
   "execution_count": null,
   "id": "c311e256-17af-4cc1-b0c8-1d8214052179",
   "metadata": {},
   "outputs": [],
   "source": [
    "#Write a program to reverse a digits of number\n",
    "n=int(input())\n",
    "rev=0\n",
    "while n>0:\n",
    "    rem=n%10\n",
    "    rev=rev*10+rem\n",
    "    n=n//10\n",
    "print(rev)"
   ]
  },
  {
   "cell_type": "code",
   "execution_count": null,
   "id": "467cee49-9d25-40ac-aec6-4a0bfe7edb79",
   "metadata": {},
   "outputs": [],
   "source": [
    "#Write a program for prime numbers. \n",
    "n=int(input())\n",
    "for i in range(2,n):\n",
    "    if n%i==0:\n",
    "        print(\"not prime number\")\n",
    "        break\n",
    "    else:\n",
    "        print(\"is a prime number\")"
   ]
  },
  {
   "cell_type": "code",
   "execution_count": null,
   "id": "d375e51a-84b0-4dbd-af07-78a53e0e39f9",
   "metadata": {},
   "outputs": [],
   "source": [
    "#Write a program to find the factorial of a number.\n",
    "n=int(input())\n",
    "fact=1\n",
    "for i in range(n,0,-1):\n",
    "    fact=fact*i\n",
    "print(fact)"
   ]
  },
  {
   "cell_type": "code",
   "execution_count": null,
   "id": "70278d9b-3337-4545-9bf0-1dca55de329c",
   "metadata": {},
   "outputs": [],
   "source": [
    "#Write a program to identify the input character by the user as lower case, uper case, numerics or special characters.\n",
    "a=input(\"Enter a character:\")\n",
    "if a==a.lower():\n",
    "    print(\"Lower case\")\n",
    "elif a==a.upper():\n",
    "    print(\"upper case\")"
   ]
  },
  {
   "cell_type": "code",
   "execution_count": null,
   "id": "7c07ec92-f3e1-4fd4-aa77-40766171033c",
   "metadata": {},
   "outputs": [],
   "source": []
  }
 ],
 "metadata": {
  "kernelspec": {
   "display_name": "Python 3 (ipykernel)",
   "language": "python",
   "name": "python3"
  },
  "language_info": {
   "codemirror_mode": {
    "name": "ipython",
    "version": 3
   },
   "file_extension": ".py",
   "mimetype": "text/x-python",
   "name": "python",
   "nbconvert_exporter": "python",
   "pygments_lexer": "ipython3",
   "version": "3.12.3"
  }
 },
 "nbformat": 4,
 "nbformat_minor": 5
}
