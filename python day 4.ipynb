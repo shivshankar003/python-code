{
 "cells": [
  {
   "cell_type": "code",
   "execution_count": null,
   "id": "f4a726f9-407f-45cb-bcc2-788f2ca6831b",
   "metadata": {},
   "outputs": [],
   "source": [
    "#Find the sum of all even numbers in a list.\n",
    "d=[]\n",
    "n=int(input(\"Enter the Size of the List: \"))\n",
    "print(\"Enter the elements of the list: \")\n",
    "for i in range(0,n):\n",
    "    a=int(input())\n",
    "    d.append(a)\n",
    "    \n",
    "print(d)\n",
    "sum=0\n",
    "for i in range(0,n):\n",
    "    if((d[i]%2)==0):\n",
    "        sum+=d[i]\n",
    "\n",
    "print(\"the Sum of all the even numbers in the list :\",end=\"  \")\n",
    "print(sum)"
   ]
  },
  {
   "cell_type": "code",
   "execution_count": null,
   "id": "79693023-7faf-47f6-abcc-3f0e24710cdf",
   "metadata": {},
   "outputs": [],
   "source": [
    "#program to Convert Temperature from Celsius to Fahrenhiet\n",
    "Cel=int(input(\"Enter the Temperature in Celsius: \"))\n",
    "fah=(Cel*1.8)+32\n",
    "print(\"The Given Temperature in Fahrenhiet:\",fah)"
   ]
  },
  {
   "cell_type": "code",
   "execution_count": null,
   "id": "f4bbb827-0f33-4945-854a-26a763d80980",
   "metadata": {},
   "outputs": [],
   "source": [
    "#program to find Second largest Number\n",
    "d=[]\n",
    "n=int(input(\"Enter the size: \"))\n",
    "print(\"Enter the elements: \")\n",
    "for i in range(0,n):\n",
    "    a=int(input())\n",
    "    d.append(a)\n",
    "\n",
    "d.sort()\n",
    "print(\"The Second Largest:\",end=\" \")\n",
    "print(d[-2])"
   ]
  },
  {
   "cell_type": "code",
   "execution_count": null,
   "id": "96aa825b-9084-4dcf-87c1-8ad0d44fe343",
   "metadata": {},
   "outputs": [],
   "source": [
    "#program for Counting occurences of each element in the list\n",
    "o=[]\n",
    "for i in range(0,20):\n",
    "    a=input()\n",
    "    o.append(a)\n",
    "    \n",
    "d={}\n",
    "for i in o:\n",
    "    if i not in d:\n",
    "        d[i]=o.count(i)\n",
    "print(d)"
   ]
  },
  {
   "cell_type": "code",
   "execution_count": null,
   "id": "c5994150-852c-405d-8f9c-1129140681b2",
   "metadata": {},
   "outputs": [],
   "source": [
    "#Count the number of vowels in a string\n",
    "n=input(\"Enter a word: \")\n",
    "count=0\n",
    "for i in n:\n",
    "    if i=='a' or i=='e' or i=='i' or i=='o' or i=='u':\n",
    "        count+=1\n",
    "\n",
    "print(count)"
   ]
  }
 ],
 "metadata": {
  "kernelspec": {
   "display_name": "Python 3 (ipykernel)",
   "language": "python",
   "name": "python3"
  },
  "language_info": {
   "codemirror_mode": {
    "name": "ipython",
    "version": 3
   },
   "file_extension": ".py",
   "mimetype": "text/x-python",
   "name": "python",
   "nbconvert_exporter": "python",
   "pygments_lexer": "ipython3",
   "version": "3.12.3"
  }
 },
 "nbformat": 4,
 "nbformat_minor": 5
}
